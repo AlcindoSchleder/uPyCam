{
 "cells": [
  {
   "cell_type": "code",
   "execution_count": 204,
   "metadata": {},
   "outputs": [
    {
     "name": "stdout",
     "output_type": "stream",
     "text": [
      "\u001b[34mConnecting to --port=/dev/ttyUSB1 --baud=115200 \u001b[0m\n",
      "\u001b[34mReady.\n",
      "\u001b[0m"
     ]
    }
   ],
   "source": [
    "%serialconnect --port /dev/ttyUSB1 --baudrate=115200 --user='micro' --password='python' --wait=0"
   ]
  },
  {
   "cell_type": "code",
   "execution_count": 266,
   "metadata": {},
   "outputs": [
    {
     "name": "stdout",
     "output_type": "stream",
     "text": [
      "normal repl mode not detected b'\\r\\nMicroPython ESP32_LoBo_v3.2.24 - 2018-09-06 on ESP32 board with ESP32\\r\\nType \"help()\" for more information.\\r\\n>>> \\r\\n>>> \\r\\nESP32: soft reboot\\r\\nets Jun  8 2016 00:22:57\\r\\n\\r\\nrst:0xc (SW_CPU_RESET),boot:0x13 (SPI_FAST_FLASH_BOOT)\\r\\nconfigsip: 0, SPIWP:0xee\\r\\nclk_drv:0x00,q_drv:0x00,d_drv:0x00,cs0_drv:0x00,hd_drv:0x00,wp_drv:0x00\\r\\nmode:DIO, clock div:2\\r\\nload:0x3fff0018,len:4\\r\\nload:0x3fff001c,len:4916\\r\\nload:0x40078000,len:8652\\r\\nload:0x40080000,len:5748\\r\\nentry 0x400802dc\\r\\n'\n",
      "not command mode\n",
      "\u001b[0;31mE (2118) MicroPython: Error while opening MicroPython NVS name space\u001b[0m\n",
      "\n",
      "Internal FS (SPIFFS): Mounted on partition 'internalfs' [size: 2686976; Flash address: 0x170000]\n",
      "----------------\n",
      "Filesystem size: 2462464 B\n",
      "           Used: 16384 B\n",
      "           Free: 2446080 B\n",
      "----------------\n",
      "MicroPython ESP32_LoBo_v3.2.24 - 2018-09-06 on ESP32 board with ESP32\n",
      "Type \"help()\" for more information.\n",
      ">>>[reboot detected 0]repl is in normal command mode\n",
      "[\\r\\x03\\x03] b'\\r\\n>>> '\n",
      "[\\r\\x01] b'\\r\\n>>> \\r\\nraw REPL; CTRL-B to exit\\r\\n>' "
     ]
    }
   ],
   "source": [
    "%rebootdevice"
   ]
  },
  {
   "cell_type": "code",
   "execution_count": 267,
   "metadata": {},
   "outputs": [],
   "source": [
    "from ov2640_constants import *\n",
    "from ov2640_lores_constants import *\n",
    "from ov2640_hires_constants import *\n",
    "import machine\n",
    "import utime\n",
    "import ubinascii"
   ]
  },
  {
   "cell_type": "code",
   "execution_count": 268,
   "metadata": {},
   "outputs": [],
   "source": [
    "QS = 0x44\n",
    "HSIZE = 0x51\n",
    "VSIZE = 0x52\n",
    "XOFFL = 0x53\n",
    "YOFFL = 0x54\n",
    "VHYX = 0x55\n",
    "DPRP = 0x56\n",
    "TEST = 0x57\n",
    "ZMOW = 0x5A\n",
    "ZMOH = 0x5B\n",
    "ZMHH = 0x5C\n",
    "BPADDR = 0x7C\n",
    "BPDATA = 0x7D\n",
    "SIZEL = 0x8C\n",
    "HSIZE8 = 0xC0\n",
    "VSIZE8 = 0xC1\n",
    "CTRL1 = 0xC3\n",
    "MS_SP = 0xF0\n",
    "SS_ID = 0xF7\n",
    "SS_CTRL = 0xF7\n",
    "MC_AL = 0xFA\n",
    "MC_AH = 0xFB\n",
    "MC_D = 0xFC\n",
    "P_CMD = 0xFD\n",
    "P_STATUS = 0xFE\n",
    "\n",
    "CTRLI = 0x50\n",
    "CTRLI_LP_DP = 0x80\n",
    "CTRLI_ROUND = 0x40\n",
    "\n",
    "CTRL0 = 0xC2\n",
    "CTRL0_AEC_EN = 0x80\n",
    "CTRL0_AEC_SEL = 0x40\n",
    "CTRL0_STAT_SEL = 0x20\n",
    "CTRL0_VFIRST = 0x10\n",
    "CTRL0_YUV422 = 0x08\n",
    "CTRL0_YUV_EN = 0x04\n",
    "CTRL0_RGB_EN = 0x02\n",
    "CTRL0_RAW_EN = 0x01\n",
    "\n",
    "CTRL2 = 0x86\n",
    "CTRL2_DCW_EN = 0x20\n",
    "CTRL2_SDE_EN = 0x10\n",
    "CTRL2_UV_ADJ_EN = 0x08\n",
    "CTRL2_UV_AVG_EN = 0x04\n",
    "CTRL2_CMX_EN = 0x01\n",
    "\n",
    "CTRL3 = 0x87\n",
    "CTRL3_BPC_EN = 0x80\n",
    "CTRL3_WPC_EN = 0x40\n",
    "R_DVP_SP = 0xD3\n",
    "R_DVP_SP_AUTO_MODE = 0x80\n",
    "\n",
    "R_BYPASS = 0x05\n",
    "R_BYPASS_DSP_EN = 0x00\n",
    "R_BYPASS_DSP_BYPAS = 0x01\n",
    "\n",
    "IMAGE_MODE = 0xDA\n",
    "IMAGE_MODE_Y8_DVP_EN = 0x40\n",
    "IMAGE_MODE_JPEG_EN = 0x10\n",
    "IMAGE_MODE_YUV422 = 0x00\n",
    "IMAGE_MODE_RAW10 = 0x04\n",
    "IMAGE_MODE_RGB565 = 0x08\n",
    "IMAGE_MODE_HREF_VSYNC = 0x02\n",
    "IMAGE_MODE_LBYTE_FIRST = 0x01\n",
    "\n",
    "RESET = 0xE0\n",
    "RESET_MICROC = 0x40\n",
    "RESET_SCCB = 0x20\n",
    "RESET_JPEG = 0x10\n",
    "RESET_DVP = 0x04\n",
    "RESET_IPU = 0x02\n",
    "RESET_CIF = 0x01\n",
    "\n",
    "MC_BIST = 0xF9\n",
    "MC_BIST_RESET = 0x80\n",
    "MC_BIST_BOOT_ROM_SEL = 0x40\n",
    "MC_BIST_12KB_SEL = 0x20\n",
    "MC_BIST_12KB_MASK = 0x30\n",
    "MC_BIST_512KB_SEL = 0x08\n",
    "MC_BIST_512KB_MASK = 0x0C\n",
    "MC_BIST_BUSY_BIT_R = 0x02\n",
    "MC_BIST_MC_RES_ONE_SH_W = 0x02\n",
    "MC_BIST_LAUNCH = 0x01\n",
    "\n",
    "BANK_SEL = 0xFF\n",
    "BANK_SEL_DSP = 0x00\n",
    "BANK_SEL_SENSOR = 0x01\n",
    "\n",
    "## Sensor register bank FF=0x01\n",
    "GAIN = 0x00\n",
    "COM1 = 0x03\n",
    "REG_PID = 0x0A\n",
    "REG_VER = 0x0B\n",
    "COM4 = 0x0D\n",
    "AEC = 0x10\n",
    "CLKRC = 0x11\n",
    "COM10 = 0x15\n",
    "HSTART = 0x17\n",
    "HSTOP = 0x18\n",
    "VSTART = 0x19\n",
    "VSTOP = 0x1A\n",
    "MIDH = 0x1C\n",
    "MIDL = 0x1D\n",
    "AEW = 0x24\n",
    "AEB = 0x25\n",
    "REG2A = 0x2A\n",
    "FRARL = 0x2B\n",
    "ADDVSL = 0x2D\n",
    "ADDVSH = 0x2E\n",
    "YAVG = 0x2F\n",
    "HSDY = 0x30\n",
    "HEDY = 0x31\n",
    "ARCOM2 = 0x34\n",
    "REG45 = 0x45\n",
    "FLL = 0x46\n",
    "FLH = 0x47\n",
    "COM19 = 0x48\n",
    "ZOOMS = 0x49\n",
    "COM22 = 0x4B\n",
    "COM25 = 0x4E\n",
    "BD50 = 0x4F\n",
    "BD60 = 0x50\n",
    "REG5D = 0x5D\n",
    "REG5E = 0x5E\n",
    "REG5F = 0x5F\n",
    "REG60 = 0x60\n",
    "HISTO_LOW = 0x61\n",
    "HISTO_HIGH = 0x62\n",
    "\n",
    "REG04 = 0x04\n",
    "REG04_DEFAULT = 0x28\n",
    "REG04_HFLIP_IMG = 0x80\n",
    "REG04_VFLIP_IMG = 0x40\n",
    "REG04_VREF_EN = 0x10\n",
    "REG04_HREF_EN = 0x08\n",
    "#REG04_SET(x) = (REG04_DEFAULT|x)\n",
    "\n",
    "REG08 = 0x08\n",
    "COM2 = 0x09\n",
    "COM2_STDBY = 0x10\n",
    "COM2_OUT_DRIVE_1x = 0x00\n",
    "COM2_OUT_DRIVE_2x = 0x01\n",
    "COM2_OUT_DRIVE_3x = 0x02\n",
    "COM2_OUT_DRIVE_4x = 0x03\n",
    "\n",
    "COM3 = 0x0C\n",
    "COM3_DEFAULT = 0x38\n",
    "COM3_BAND_50Hz = 0x04\n",
    "COM3_BAND_60Hz = 0x00\n",
    "COM3_BAND_AUTO = 0x02\n",
    "#COM3_BAND_SET(x) (COM3_DEFAULT|x)\n",
    "\n",
    "COM7 = 0x12\n",
    "COM7_SRST = 0x80\n",
    "COM7_RES_UXGA = 0x00 # UXGA\n",
    "COM7_RES_SVGA = 0x40 # SVGA\n",
    "COM7_RES_CIF = 0x20 # CIF\n",
    "COM7_ZOOM_EN = 0x04 # Enable Zoom\n",
    "COM7_COLOR_BAR = 0x02 # Enable Color Bar Test\n",
    "\n",
    "COM8 = 0x13\n",
    "COM8_DEFAULT = 0xC0\n",
    "COM8_BNDF_EN = 0x20 # Enable Banding filter\n",
    "COM8_AGC_EN = 0x04 # AGC Auto/Manual control selection\n",
    "COM8_AEC_EN = 0x01 # Auto/Manual Exposure control\n",
    "#COM8_SET(x) = (COM8_DEFAULT|x)\n",
    "\n",
    "COM9 = 0x14 # AGC gain ceiling\n",
    "COM9_DEFAULT = 0x08\n",
    "COM9_AGC_GAIN_2x = 0x00 # AGC: 2x\n",
    "COM9_AGC_GAIN_4x = 0x01 # AGC: 4x\n",
    "COM9_AGC_GAIN_8x = 0x02 # AGC: 8x\n",
    "COM9_AGC_GAIN_16x = 0x03 # AGC: 16x\n",
    "COM9_AGC_GAIN_32x = 0x04 # AGC: 32x\n",
    "COM9_AGC_GAIN_64x = 0x05 # AGC: 64x\n",
    "COM9_AGC_GAIN_128x = 0x06 # AGC: 128x\n",
    "#COM9_AGC_SET(x) = (COM9_DEFAULT|(x<<5))\n",
    "\n",
    "COM10 = 0x15\n",
    "COM10_HREF_EN = 0x80 # HSYNC changes to HREF\n",
    "COM10_HSYNC_EN = 0x40 # HREF changes to HSYNC\n",
    "COM10_PCLK_FREE = 0x20 # PCLK output option: free running PCLK\n",
    "COM10_PCLK_EDGE = 0x10 # Data is updated at the rising edge of PCLK\n",
    "COM10_HREF_NEG = 0x08 # HREF negative\n",
    "COM10_VSYNC_NEG = 0x02 # VSYNC negative\n",
    "COM10_HSYNC_NEG = 0x01 # HSYNC negative\n",
    "\n",
    "CTRL1_AWB = 0x08 # Enable AWB\n",
    "\n",
    "VV = 0x26\n",
    "#VV_AGC_TH_SET(h,l) ((h<<4)|(l&0x0F))\n",
    "\n",
    "REG32 = 0x32\n",
    "REG32_UXGA = 0x36\n",
    "REG32_SVGA = 0x09\n",
    "REG32_CIF = 0x00\n",
    "\n",
    "REG_MIDH = 0x1C\n",
    "REG_MIDL = 0x1D\n",
    "\n",
    "OV9650_PID = 0x96\n",
    "OV2640_PID = 0x26\n",
    "OV7725_PID = 0x77"
   ]
  },
  {
   "cell_type": "code",
   "execution_count": 286,
   "metadata": {},
   "outputs": [],
   "source": [
    "def cam_write_register_set(i2c_interface, addr, set):\n",
    "    for el in set:\n",
    "        raddr = el[0]\n",
    "        val = bytes([el[1]])\n",
    "        if (raddr == 0xff and val == b'\\xff'):\n",
    "            return\n",
    "        #print(\"writing byte %s to addr %x register addr %x\" % \\\n",
    "        #    (ubinascii.hexlify(val), addr, raddr))\n",
    "        i2c_interface.writeto_mem(addr, raddr, val)\n",
    "        \n",
    "def standby(i2c_interface):\n",
    "    # register set select\n",
    "    i2c_interface.writeto_mem(slv_addr, 0xff, b'\\x01')\n",
    "    # standby mode\n",
    "    i2c_interface.writeto_mem(slv_addr, 0x09, b'\\x10')\n",
    "    standby = True\n",
    "\n",
    "def wake(i2c_interface, slv_addr):\n",
    "    # register set select\n",
    "    i2c_interface.writeto_mem(slv_addr, 0xff, b'\\x01')\n",
    "    # standby mode\n",
    "    i2c_interface.writeto_mem(slv_addr, 0x09, b'\\x00')\n",
    "    standby = False"
   ]
  },
  {
   "cell_type": "code",
   "execution_count": 270,
   "metadata": {},
   "outputs": [],
   "source": [
    "SCL_PIN = 27\n",
    "SDA_PIN = 26\n",
    "XCL_PIN = 0\n",
    "POWER_FLASH_PIN = 4\n",
    "RESET_PIN = 32"
   ]
  },
  {
   "cell_type": "code",
   "execution_count": 271,
   "metadata": {},
   "outputs": [],
   "source": [
    "xcl_pin = machine.Pin(XCL_PIN, machine.Pin.OUT, machine.Pin.PULL_DOWN)\n",
    "pwm_xcl = machine.PWM(xcl_pin)\n",
    "pwm_xcl.freq(20000000)\n",
    "pwm_xcl.duty(50)"
   ]
  },
  {
   "cell_type": "code",
   "execution_count": 272,
   "metadata": {},
   "outputs": [],
   "source": [
    "power_led_pin = machine.Pin(POWER_FLASH_PIN, machine.Pin.OUT)\n",
    "power_led_pin.value(0)\n",
    "\n",
    "pin_scl = machine.Pin(SCL_PIN, machine.Pin.OUT, machine.Pin.PULL_UP)\n",
    "pin_sda = machine.Pin(SDA_PIN, machine.Pin.IN, machine.Pin.PULL_UP)"
   ]
  },
  {
   "cell_type": "code",
   "execution_count": 273,
   "metadata": {},
   "outputs": [
    {
     "name": "stdout",
     "output_type": "stream",
     "text": [
      "."
     ]
    }
   ],
   "source": [
    "power_on_pin = machine.Pin(RESET_PIN, machine.Pin.OUT)\n",
    "utime.sleep_ms(100)\n",
    "power_on_pin.value(1)\n",
    "utime.sleep_ms(3000)\n",
    "power_on_pin.value(0)\n",
    "utime.sleep_ms(1000)"
   ]
  },
  {
   "cell_type": "code",
   "execution_count": 274,
   "metadata": {},
   "outputs": [],
   "source": [
    "i2c_conn = machine.I2C(0, scl=pin_scl, sda=pin_sda, freq=200000)"
   ]
  },
  {
   "cell_type": "code",
   "execution_count": 277,
   "metadata": {},
   "outputs": [
    {
     "name": "stdout",
     "output_type": "stream",
     "text": [
      "ov2640_init: devices detected on on i2c:\n",
      "0x30\n"
     ]
    }
   ],
   "source": [
    "addrs = i2c_conn.scan()\n",
    "print('ov2640_init: devices detected on on i2c:')\n",
    "slv_addr = 0\n",
    "for a in addrs:\n",
    "    slv_addr = a\n",
    "    print('0x%x' % a)\n",
    "    \n",
    "if(slv_addr == 0):\n",
    "    print('camera not found!')\n",
    "    \n",
    "buf = bytearray(2)\n",
    "buf[0] = 0xff\n",
    "buf[1] = 0x01\n",
    "ack = i2c_conn.writeto(0x30, buf, stop=True);"
   ]
  },
  {
   "cell_type": "code",
   "execution_count": 278,
   "metadata": {},
   "outputs": [],
   "source": [
    "# select register set\n",
    "i2c_conn.writeto_mem(slv_addr, BANK_SEL, b'\\x01')\n",
    "# initiate system reset\n",
    "i2c_conn.writeto_mem(slv_addr, COM7, b'\\x80')"
   ]
  },
  {
   "cell_type": "code",
   "execution_count": 279,
   "metadata": {},
   "outputs": [
    {
     "name": "stdout",
     "output_type": "stream",
     "text": [
      "ov2640_init: device type looks correct, bytes: b'26'/b'42'\r\n"
     ]
    }
   ],
   "source": [
    "# register set select\n",
    "i2c_conn.writeto_mem(slv_addr, BANK_SEL, b'\\x01')\n",
    "# check the camera type\n",
    "parta = i2c_conn.readfrom_mem(slv_addr, REG_PID, 1)\n",
    "partb = i2c_conn.readfrom_mem(slv_addr, REG_VER, 1)\n",
    "if ((parta != b'\\x26') or (partb != b'\\x42')):\n",
    "    print(\"ov2640_init: device type does not appear to be ov2640, bytes: %s/%s\" % \\\n",
    "            (ubinascii.hexlify(parta), ubinascii.hexlify(partb)))\n",
    "else:\n",
    "    print(\"ov2640_init: device type looks correct, bytes: %s/%s\" % \\\n",
    "            (ubinascii.hexlify(parta), ubinascii.hexlify(partb)))"
   ]
  },
  {
   "cell_type": "code",
   "execution_count": 284,
   "metadata": {},
   "outputs": [],
   "source": [
    "cam_write_register_set(i2c_conn, slv_addr, OV2640_JPEG_INIT)\n",
    "cam_write_register_set(i2c_conn, slv_addr, OV2640_YUV422)\n",
    "cam_write_register_set(i2c_conn, slv_addr, OV2640_JPEG)"
   ]
  },
  {
   "cell_type": "code",
   "execution_count": 285,
   "metadata": {},
   "outputs": [],
   "source": [
    "resolution = OV2640_320x240_JPEG\n",
    "\n",
    "# select register set\n",
    "i2c_conn.writeto_mem(slv_addr, BANK_SEL, b'\\x01')\n",
    "i2c_conn.writeto_mem(slv_addr, COM10, b'\\x00')\n",
    "\n",
    "# select jpg resolution\n",
    "cam_write_register_set(i2c_conn, slv_addr, resolution)"
   ]
  },
  {
   "cell_type": "code",
   "execution_count": null,
   "metadata": {},
   "outputs": [],
   "source": []
  }
 ],
 "metadata": {
  "kernelspec": {
   "display_name": "MicroPython - USB",
   "language": "micropython",
   "name": "micropython"
  },
  "language_info": {
   "codemirror_mode": "python",
   "file_extension": ".py",
   "mimetype": "text/python",
   "name": "micropython"
  }
 },
 "nbformat": 4,
 "nbformat_minor": 2
}
